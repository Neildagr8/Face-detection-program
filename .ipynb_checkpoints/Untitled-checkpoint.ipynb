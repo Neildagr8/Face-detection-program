{
 "cells": [
  {
   "cell_type": "code",
   "execution_count": null,
   "metadata": {},
   "outputs": [
    {
     "name": "stdout",
     "output_type": "stream",
     "text": [
      "Collecting Cmake\n",
      "  Downloading cmake-3.17.2-py3-none-macosx_10_6_x86_64.whl (41.8 MB)\n",
      "\u001b[K     |████████████████████████████████| 41.8 MB 10.0 MB/s eta 0:00:01\n",
      "\u001b[?25hInstalling collected packages: Cmake\n",
      "Successfully installed Cmake-3.17.2\n",
      "Collecting face_recognition\n",
      "  Using cached face_recognition-1.3.0-py2.py3-none-any.whl (15 kB)\n",
      "Processing /Users/neil_da_gr8/Library/Caches/pip/wheels/b4/4b/8f/751e99d45f089bdf366a7d3e5066db3c2b84a62e4377f534d7/face_recognition_models-0.3.0-py2.py3-none-any.whl\n",
      "Collecting dlib>=19.7\n",
      "  Using cached dlib-19.19.0.tar.gz (3.2 MB)\n",
      "Requirement already satisfied: Pillow in /Library/Frameworks/Python.framework/Versions/3.8/lib/python3.8/site-packages (from face_recognition) (7.1.2)\n",
      "Requirement already satisfied: Click>=6.0 in /Library/Frameworks/Python.framework/Versions/3.8/lib/python3.8/site-packages (from face_recognition) (7.1.2)\n",
      "Requirement already satisfied: numpy in /Library/Frameworks/Python.framework/Versions/3.8/lib/python3.8/site-packages (from face_recognition) (1.18.2)\n",
      "Building wheels for collected packages: dlib\n",
      "  Building wheel for dlib (setup.py) ... \u001b[?25l/"
     ]
    }
   ],
   "source": [
    "!pip install Cmake\n",
    "!pip install face_recognition\n",
    "import face_recognition"
   ]
  },
  {
   "cell_type": "code",
   "execution_count": null,
   "metadata": {},
   "outputs": [],
   "source": [
    "import os\n",
    "import cv2\n",
    "KNOWN_FACES_DIR = \"/Users/neil_da_gr8/Desktop/face_recog/known_faces\"\n",
    "UNKNOWN_FACES_DIR = \"/Users/neil_da_gr8/Desktop/face_recog/unknown_faces\"\n",
    "TOLERANCE = 0.6\n",
    "FRAME_THICKNESS = 3\n",
    "FONT_THICKNESS = 2\n",
    "MODEL = \"cnn\"\n",
    "known_faces=[]\n",
    "known_names=[]\n",
    "for name in os.listdir(KNOWN_FACES_DIR):\n",
    "  for filename in os.listdir(f'{KNOWN_FACES_DIR}/{name}'):\n",
    "    image = face_recognition.load_image_file(f'{KNOWN_FACES_DIR}/{name}/{filename}')"
   ]
  }
 ],
 "metadata": {
  "kernelspec": {
   "display_name": "Python 3",
   "language": "python",
   "name": "python3"
  },
  "language_info": {
   "codemirror_mode": {
    "name": "ipython",
    "version": 3
   },
   "file_extension": ".py",
   "mimetype": "text/x-python",
   "name": "python",
   "nbconvert_exporter": "python",
   "pygments_lexer": "ipython3",
   "version": "3.7.4"
  }
 },
 "nbformat": 4,
 "nbformat_minor": 4
}
